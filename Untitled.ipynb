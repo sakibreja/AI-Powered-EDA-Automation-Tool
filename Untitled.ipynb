{
 "cells": [
  {
   "cell_type": "code",
   "execution_count": 2,
   "id": "5cf19da4-5013-4578-99d4-bd0e82565a8c",
   "metadata": {},
   "outputs": [
    {
     "name": "stderr",
     "output_type": "stream",
     "text": [
      "c:\\Users\\rejas\\AppData\\Local\\Programs\\Python\\Python39\\lib\\site-packages\\tqdm\\auto.py:21: TqdmWarning: IProgress not found. Please update jupyter and ipywidgets. See https://ipywidgets.readthedocs.io/en/stable/user_install.html\n",
      "  from .autonotebook import tqdm as notebook_tqdm\n"
     ]
    }
   ],
   "source": [
    "import gradio as gr"
   ]
  },
  {
   "cell_type": "code",
   "execution_count": 3,
   "id": "58ee0363-ffa3-447d-9b9b-9f5ad9357499",
   "metadata": {},
   "outputs": [
    {
     "name": "stdout",
     "output_type": "stream",
     "text": [
      "Running on local URL:  http://127.0.0.1:7860\n",
      "\n",
      "To create a public link, set `share=True` in `launch()`.\n"
     ]
    },
    {
     "data": {
      "text/html": [
       "<div><iframe src=\"http://127.0.0.1:7860/\" width=\"100%\" height=\"500\" allow=\"autoplay; camera; microphone; clipboard-read; clipboard-write;\" frameborder=\"0\" allowfullscreen></iframe></div>"
      ],
      "text/plain": [
       "<IPython.core.display.HTML object>"
      ]
     },
     "metadata": {},
     "output_type": "display_data"
    },
    {
     "data": {
      "text/plain": []
     },
     "execution_count": 3,
     "metadata": {},
     "output_type": "execute_result"
    }
   ],
   "source": [
    "def square_number(x):\n",
    "    return x ** 2\n",
    "interface = gr.Interface(fn=square_number, inputs=\"number\", outputs=\"number\")\n",
    "interface.launch()"
   ]
  },
  {
   "cell_type": "code",
   "execution_count": null,
   "id": "d549f5ac-19da-4036-8fa1-d9e573585a3e",
   "metadata": {},
   "outputs": [],
   "source": [
    "url= r\"C:\\Users\\rejas\\VS CODE\\Prakash Senapati sir\\EDA LLM\\titanic_ dataset_final.csv\""
   ]
  },
  {
   "cell_type": "code",
   "execution_count": 5,
   "id": "697b75c3-e9da-44cb-b04f-b4b89ba61200",
   "metadata": {},
   "outputs": [],
   "source": [
    "import pandas as pd\n",
    "df=pd.read_csv(url)"
   ]
  },
  {
   "cell_type": "code",
   "execution_count": 7,
   "id": "1da99d35-42c1-4398-b102-49a68ebe4b8f",
   "metadata": {},
   "outputs": [
    {
     "name": "stdout",
     "output_type": "stream",
     "text": [
      "\n",
      " AI-Generated Insights:\n",
      "  The dataset is a subset of the Titanic passenger data, containing 891 observations with no missing values in any column. Here are some key insights:\n",
      "\n",
      "1. The mean age of passengers is approximately 29.7 years old, with a standard deviation of 14.53 years. The youngest passenger was 0.42 years old and the oldest was 80 years old.\n",
      "\n",
      "2. The majority of passengers survived, with an average survival rate of 0.38 (approximately 38%). However, it's important to note that this is not indicative of the actual survival rate, as the dataset only contains information about passengers who boarded the Titanic and does not include those who did not board.\n",
      "\n",
      "3. The Pclass column represents the class passengers were traveling in. The mean value is 2.31, indicating that most passengers traveled in Second Class. However, there are a wide range of Pclass values, from 1 (First Class) to 3 (Third Class).\n",
      "\n",
      "4. The SibSp and Parch columns represent the number of siblings and parents/children a passenger had aboard the Titanic respectively. On average, each passenger had approximately half a sibling or parent/child aboard (0.52 for SibSp and 0.38 for Parch), but the range is quite wide (from 0 to 8 in both cases).\n",
      "\n",
      "5. The Fare column represents the fare each passenger paid for their ticket. The mean fare was approximately $32.20, with a standard deviation of nearly $50. The lowest fare was $0 and the highest was $512.33. It's important to note that the cost of tickets varied greatly depending on the class traveled in, with First Class tickets being significantly more expensive than Second or Third Class tickets.\n",
      "\n",
      "6. There is a slight positive skew in the age distribution, as indicated by the fact that the median (50th percentile) age is lower than the mean (average). This suggests that there were fewer older passengers compared to younger ones. Similarly, the majority of passengers survived, but those who did not had a higher survival rate than those who did, leading to a slight positive skew in the Survived column.\n",
      "\n",
      "7. The distribution of Pclass values is roughly normal, with most passengers traveling in Second Class and fewer in First or Third Class. However, there are some outliers with extreme values for Pclass (1 or 3).\n"
     ]
    }
   ],
   "source": [
    "import ollama\n",
    "def generate_insights(df_summary):\n",
    "    prompt = f\"Analyze the dataset summary and provide insights:\\n\\n{df_summary}\"\n",
    "    response = ollama.chat(model=\"mistral\", messages=[{\"role\": \"user\", \"content\": prompt}])\n",
    "    return response['message']['content']\n",
    "# Generate AI Insights\n",
    "summary = df.describe().to_string()\n",
    "insights = generate_insights(summary)\n",
    "print(\"\\n AI-Generated Insights:\\n\", insights)"
   ]
  },
  {
   "cell_type": "code",
   "execution_count": 8,
   "id": "d6b7b341-fb06-4c30-9174-82ce3c669804",
   "metadata": {},
   "outputs": [
    {
     "name": "stdout",
     "output_type": "stream",
     "text": [
      "Running on local URL:  http://127.0.0.1:7861\n",
      "Running on public URL: https://4bab28555c0cd083cc.gradio.live\n",
      "\n",
      "This share link expires in 72 hours. For free permanent hosting and GPU upgrades, run `gradio deploy` from Terminal to deploy to Spaces (https://huggingface.co/spaces)\n"
     ]
    },
    {
     "data": {
      "text/html": [
       "<div><iframe src=\"https://4bab28555c0cd083cc.gradio.live\" width=\"100%\" height=\"500\" allow=\"autoplay; camera; microphone; clipboard-read; clipboard-write;\" frameborder=\"0\" allowfullscreen></iframe></div>"
      ],
      "text/plain": [
       "<IPython.core.display.HTML object>"
      ]
     },
     "metadata": {},
     "output_type": "display_data"
    },
    {
     "data": {
      "text/plain": []
     },
     "execution_count": 8,
     "metadata": {},
     "output_type": "execute_result"
    }
   ],
   "source": [
    "import gradio as gr\n",
    "def eda_analysis(file):\n",
    "    df = pd.read_csv(file)\n",
    "    summary = df.describe().to_string()\n",
    "    insights = generate_insights(summary)\n",
    "    return insights\n",
    "demo = gr.Interface(fn=eda_analysis, inputs=\"file\", outputs=\"text\")\n",
    "demo.launch(share=True)"
   ]
  },
  {
   "cell_type": "code",
   "execution_count": null,
   "id": "ffbd3f48-f3b9-41e8-9e36-2576e4752302",
   "metadata": {},
   "outputs": [],
   "source": [
    "import gradio as gr \n",
    "import pandas as pd \n",
    "import matplotlib.pyplot as plt\n",
    "import seaborn as sns \n",
    "def eda_analysis(file_path):\n",
    "    df = pd.read_csv(file_path)\n",
    "    \n",
    "    for col in df.select_dtypes(include = ['number']).columns:\n",
    "        df[col].fillna(df[col].median(), inplace = True)\n",
    "        \n",
    "    for col in df.select_dtypes(include = ['object']).columns:\n",
    "        df[col].fillna(df[col].mode()[0], inplace = True)\n",
    "        \n",
    "    summary = df.describe(include='all').to_string()\n",
    "    \n",
    "    missing_values = df.isnull().sum().to_string()\n",
    "    \n",
    "    insights = generate_ai_insights(summary)     \n",
    "    \n",
    "    plot_paths = generate_visualizations(df)\n",
    "    \n",
    "    return f\"\\n Data Loaded Successfully \\n\\n Summary: \\n {summary} \\n\\n Missing Values: \\n {missing_values} \\n\\n Insights: \\n {insights} \\n\\n Plots: \\n {plot_paths}\""
   ]
  }
 ],
 "metadata": {
  "kernelspec": {
   "display_name": "Python 3",
   "language": "python",
   "name": "python3"
  },
  "language_info": {
   "codemirror_mode": {
    "name": "ipython",
    "version": 3
   },
   "file_extension": ".py",
   "mimetype": "text/x-python",
   "name": "python",
   "nbconvert_exporter": "python",
   "pygments_lexer": "ipython3",
   "version": "3.9.13"
  }
 },
 "nbformat": 4,
 "nbformat_minor": 5
}
